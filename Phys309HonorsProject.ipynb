{
 "cells": [
  {
   "cell_type": "markdown",
   "id": "3430998f",
   "metadata": {},
   "source": [
    "<h1>de Broglie Wavelength</h1>"
   ]
  },
  {
   "cell_type": "markdown",
   "id": "5e008cc7",
   "metadata": {},
   "source": [
    "In the early 1900s, there were massive developments being made in physics all the time. By this time, we were well aware that electromagnetic radiation (photons) exhibited particle-wave duality. However, matter was not determined to have such a property yet. Louis de Broglie predicted that matter should behave in a similar way in order for nature to be symmetric. We know that momentum of a photon can be described as $p=\\frac h \\lambda$. Knowing this, de Broglie proposed that all particles have a wavelength $\\lambda=\\frac h p$"
   ]
  }
 ],
 "metadata": {
  "language_info": {
   "name": "python"
  }
 },
 "nbformat": 4,
 "nbformat_minor": 5
}
