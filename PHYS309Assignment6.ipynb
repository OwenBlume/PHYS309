{
 "cells": [
  {
   "cell_type": "code",
   "execution_count": 1,
   "id": "de9c808e",
   "metadata": {},
   "outputs": [
    {
     "name": "stdout",
     "output_type": "stream",
     "text": [
      "Requirement already satisfied: plotly in c:\\users\\owen\\appdata\\local\\packages\\pythonsoftwarefoundation.python.3.11_qbz5n2kfra8p0\\localcache\\local-packages\\python311\\site-packages (6.0.1)\n",
      "Requirement already satisfied: narwhals>=1.15.1 in c:\\users\\owen\\appdata\\local\\packages\\pythonsoftwarefoundation.python.3.11_qbz5n2kfra8p0\\localcache\\local-packages\\python311\\site-packages (from plotly) (1.38.2)\n",
      "Requirement already satisfied: packaging in c:\\users\\owen\\appdata\\local\\packages\\pythonsoftwarefoundation.python.3.11_qbz5n2kfra8p0\\localcache\\local-packages\\python311\\site-packages (from plotly) (24.1)\n"
     ]
    },
    {
     "name": "stderr",
     "output_type": "stream",
     "text": [
      "\n",
      "[notice] A new release of pip is available: 24.2 -> 25.1.1\n",
      "[notice] To update, run: C:\\Users\\Owen\\AppData\\Local\\Microsoft\\WindowsApps\\PythonSoftwareFoundation.Python.3.11_qbz5n2kfra8p0\\python.exe -m pip install --upgrade pip\n"
     ]
    }
   ],
   "source": [
    "import sys\n",
    "!{sys.executable} -m pip install plotly"
   ]
  },
  {
   "cell_type": "code",
   "execution_count": 2,
   "id": "36764a5a",
   "metadata": {},
   "outputs": [],
   "source": [
    "import numpy as np\n",
    "import plotly.graph_objects as go\n",
    "from plotly.subplots import make_subplots\n",
    "from scipy import constants\n",
    "\n",
    "a0 = constants.physical_constants['Bohr radius'][0]\n",
    "Angstrom = constants.angstrom\n",
    "\n"
   ]
  },
  {
   "cell_type": "code",
   "execution_count": 3,
   "id": "94cf1ec6",
   "metadata": {},
   "outputs": [],
   "source": [
    "def r_phi_theta(x, y, z):\n",
    "    r = np.sqrt(x**2 + y**2 + z**2)\n",
    "    phi = np.arctan2(y, x) + np.pi\n",
    "    theta = np.arccos(z/r)\n",
    "    return r, phi, theta\n",
    "\n"
   ]
  },
  {
   "cell_type": "code",
   "execution_count": 4,
   "id": "25d4db2f",
   "metadata": {},
   "outputs": [],
   "source": [
    "X, Y, Z = np.mgrid[-20*a0:20*a0:48j, -20*a0:20*a0:48j, -20*a0:20*a0:48j]\n",
    "r_grid, phi_grid, theta_grid = r_phi_theta(X, Y, Z)"
   ]
  },
  {
   "cell_type": "code",
   "execution_count": 5,
   "id": "b855731f",
   "metadata": {},
   "outputs": [],
   "source": [
    "def probfunc(r, wavefunc):\n",
    "    p = r**2 * np.conj(wavefunc) * wavefunc\n",
    "    return p.real / np.max(p.real)"
   ]
  },
  {
   "cell_type": "code",
   "execution_count": 6,
   "id": "d61f5378",
   "metadata": {},
   "outputs": [],
   "source": [
    "n1l0m0 = lambda r: np.exp(-r/a0) / (np.sqrt(np.pi) * a0**1.5)\n",
    "\n",
    "n2l0m0 = lambda r: (2 - r/a0) * np.exp(-r/(2*a0)) / (4 * np.sqrt(2*np.pi) * a0**1.5)"
   ]
  },
  {
   "cell_type": "markdown",
   "id": "a4f5e382",
   "metadata": {},
   "source": [
    "Question to answer:\n",
    "\n",
    "How come these wave functions do not depend on $\\phi$ and $\\theta$?"
   ]
  },
  {
   "cell_type": "markdown",
   "id": "88babad1",
   "metadata": {},
   "source": [
    "These functions do not depend on $\\theta$ and $\\phi$ because the colatitude quantum number and the azimuthal quantum number are both zero. The only nonzero quantum number in these functions is the principle quantum number."
   ]
  },
  {
   "cell_type": "code",
   "execution_count": 7,
   "id": "ed059401",
   "metadata": {},
   "outputs": [],
   "source": [
    "prob_n1l0m0 = probfunc(r_grid, n1l0m0(r_grid))\n",
    "prob_n2l0m0 = probfunc(r_grid, n2l0m0(r_grid))"
   ]
  },
  {
   "cell_type": "code",
   "execution_count": 8,
   "id": "87efad83",
   "metadata": {},
   "outputs": [
    {
     "ename": "ValueError",
     "evalue": "Mime type rendering requires nbformat>=4.2.0 but it is not installed",
     "output_type": "error",
     "traceback": [
      "\u001b[1;31m---------------------------------------------------------------------------\u001b[0m",
      "\u001b[1;31mValueError\u001b[0m                                Traceback (most recent call last)",
      "Cell \u001b[1;32mIn[8], line 24\u001b[0m\n\u001b[0;32m     16\u001b[0m \u001b[38;5;66;03m# Change axis lables and make the plot larger than the default\u001b[39;00m\n\u001b[0;32m     17\u001b[0m fig\u001b[38;5;241m.\u001b[39mupdate_layout(scene \u001b[38;5;241m=\u001b[39m \u001b[38;5;28mdict\u001b[39m(\n\u001b[0;32m     18\u001b[0m                     xaxis_title\u001b[38;5;241m=\u001b[39m\u001b[38;5;124m'\u001b[39m\u001b[38;5;124mx (Angstroms)\u001b[39m\u001b[38;5;124m'\u001b[39m,\n\u001b[0;32m     19\u001b[0m                     yaxis_title\u001b[38;5;241m=\u001b[39m\u001b[38;5;124m'\u001b[39m\u001b[38;5;124my (Angstroms)\u001b[39m\u001b[38;5;124m'\u001b[39m,\n\u001b[0;32m     20\u001b[0m                     zaxis_title\u001b[38;5;241m=\u001b[39m\u001b[38;5;124m'\u001b[39m\u001b[38;5;124mz (Angstroms)\u001b[39m\u001b[38;5;124m'\u001b[39m),\n\u001b[0;32m     21\u001b[0m                     width\u001b[38;5;241m=\u001b[39m\u001b[38;5;241m700\u001b[39m,\n\u001b[0;32m     22\u001b[0m                     margin\u001b[38;5;241m=\u001b[39m\u001b[38;5;28mdict\u001b[39m(r\u001b[38;5;241m=\u001b[39m\u001b[38;5;241m10\u001b[39m, b\u001b[38;5;241m=\u001b[39m\u001b[38;5;241m10\u001b[39m, l\u001b[38;5;241m=\u001b[39m\u001b[38;5;241m10\u001b[39m, t\u001b[38;5;241m=\u001b[39m\u001b[38;5;241m10\u001b[39m))\n\u001b[1;32m---> 24\u001b[0m \u001b[43mfig\u001b[49m\u001b[38;5;241;43m.\u001b[39;49m\u001b[43mshow\u001b[49m\u001b[43m(\u001b[49m\u001b[43m)\u001b[49m\n",
      "File \u001b[1;32m~\\AppData\\Local\\Packages\\PythonSoftwareFoundation.Python.3.11_qbz5n2kfra8p0\\LocalCache\\local-packages\\Python311\\site-packages\\plotly\\basedatatypes.py:3414\u001b[0m, in \u001b[0;36mBaseFigure.show\u001b[1;34m(self, *args, **kwargs)\u001b[0m\n\u001b[0;32m   3381\u001b[0m \u001b[38;5;250m\u001b[39m\u001b[38;5;124;03m\"\"\"\u001b[39;00m\n\u001b[0;32m   3382\u001b[0m \u001b[38;5;124;03mShow a figure using either the default renderer(s) or the renderer(s)\u001b[39;00m\n\u001b[0;32m   3383\u001b[0m \u001b[38;5;124;03mspecified by the renderer argument\u001b[39;00m\n\u001b[1;32m   (...)\u001b[0m\n\u001b[0;32m   3410\u001b[0m \u001b[38;5;124;03mNone\u001b[39;00m\n\u001b[0;32m   3411\u001b[0m \u001b[38;5;124;03m\"\"\"\u001b[39;00m\n\u001b[0;32m   3412\u001b[0m \u001b[38;5;28;01mimport\u001b[39;00m \u001b[38;5;21;01mplotly\u001b[39;00m\u001b[38;5;21;01m.\u001b[39;00m\u001b[38;5;21;01mio\u001b[39;00m \u001b[38;5;28;01mas\u001b[39;00m \u001b[38;5;21;01mpio\u001b[39;00m\n\u001b[1;32m-> 3414\u001b[0m \u001b[38;5;28;01mreturn\u001b[39;00m \u001b[43mpio\u001b[49m\u001b[38;5;241;43m.\u001b[39;49m\u001b[43mshow\u001b[49m\u001b[43m(\u001b[49m\u001b[38;5;28;43mself\u001b[39;49m\u001b[43m,\u001b[49m\u001b[43m \u001b[49m\u001b[38;5;241;43m*\u001b[39;49m\u001b[43margs\u001b[49m\u001b[43m,\u001b[49m\u001b[43m \u001b[49m\u001b[38;5;241;43m*\u001b[39;49m\u001b[38;5;241;43m*\u001b[39;49m\u001b[43mkwargs\u001b[49m\u001b[43m)\u001b[49m\n",
      "File \u001b[1;32m~\\AppData\\Local\\Packages\\PythonSoftwareFoundation.Python.3.11_qbz5n2kfra8p0\\LocalCache\\local-packages\\Python311\\site-packages\\plotly\\io\\_renderers.py:425\u001b[0m, in \u001b[0;36mshow\u001b[1;34m(fig, renderer, validate, **kwargs)\u001b[0m\n\u001b[0;32m    420\u001b[0m     \u001b[38;5;28;01mraise\u001b[39;00m \u001b[38;5;167;01mValueError\u001b[39;00m(\n\u001b[0;32m    421\u001b[0m         \u001b[38;5;124m\"\u001b[39m\u001b[38;5;124mMime type rendering requires ipython but it is not installed\u001b[39m\u001b[38;5;124m\"\u001b[39m\n\u001b[0;32m    422\u001b[0m     )\n\u001b[0;32m    424\u001b[0m \u001b[38;5;28;01mif\u001b[39;00m \u001b[38;5;129;01mnot\u001b[39;00m nbformat \u001b[38;5;129;01mor\u001b[39;00m Version(nbformat\u001b[38;5;241m.\u001b[39m__version__) \u001b[38;5;241m<\u001b[39m Version(\u001b[38;5;124m\"\u001b[39m\u001b[38;5;124m4.2.0\u001b[39m\u001b[38;5;124m\"\u001b[39m):\n\u001b[1;32m--> 425\u001b[0m     \u001b[38;5;28;01mraise\u001b[39;00m \u001b[38;5;167;01mValueError\u001b[39;00m(\n\u001b[0;32m    426\u001b[0m         \u001b[38;5;124m\"\u001b[39m\u001b[38;5;124mMime type rendering requires nbformat>=4.2.0 but it is not installed\u001b[39m\u001b[38;5;124m\"\u001b[39m\n\u001b[0;32m    427\u001b[0m     )\n\u001b[0;32m    429\u001b[0m display_jupyter_version_warnings()\n\u001b[0;32m    431\u001b[0m ipython_display\u001b[38;5;241m.\u001b[39mdisplay(bundle, raw\u001b[38;5;241m=\u001b[39m\u001b[38;5;28;01mTrue\u001b[39;00m)\n",
      "\u001b[1;31mValueError\u001b[0m: Mime type rendering requires nbformat>=4.2.0 but it is not installed"
     ]
    }
   ],
   "source": [
    "# n = 1, l = 0, m = 0\n",
    "fig = go.Figure(data=go.Isosurface(\n",
    "    x=X.flatten() / Angstrom, # x values of the grid in Angstroms\n",
    "    y=Y.flatten() / Angstrom, # y values of the grid in Angstroms\n",
    "    z=Z.flatten() / Angstrom, # z values of the grid in Angstroms\n",
    "    value=prob_n1l0m0.flatten(), # independent variable\n",
    "    isomin=0.05, # Minimum normalized probability density to render in an isosurface\n",
    "    isomax=0.95, # Maximum normalized probability density to render in an isosurface\n",
    "    opacity=0.4, # Set a low opacity so each surface is partially transparent\n",
    "    colorscale='Plotly3_r', # Nice-looking color table\n",
    "    surface_count=8, # number of isosurfaces to plot (2 by default: only min and max)\n",
    "    colorbar_nticks=8, # colorbar ticks correspond to isosurface values\n",
    "    caps=dict(x_show=False, y_show=False, z_show=False))\n",
    "               )\n",
    "\n",
    "# Change axis lables and make the plot larger than the default\n",
    "fig.update_layout(scene = dict(\n",
    "                    xaxis_title='x (Angstroms)',\n",
    "                    yaxis_title='y (Angstroms)',\n",
    "                    zaxis_title='z (Angstroms)'),\n",
    "                    width=700,\n",
    "                    margin=dict(r=10, b=10, l=10, t=10))\n",
    "\n",
    "fig.show()\n",
    "\n"
   ]
  },
  {
   "cell_type": "code",
   "execution_count": null,
   "id": "699821f0",
   "metadata": {},
   "outputs": [],
   "source": [
    "# n = 2, l = 0, m = 0\n",
    "fig = go.Figure(data=go.Isosurface(\n",
    "    x=X.flatten() / Angstrom, # x values of the grid in Angstroms\n",
    "    y=Y.flatten() / Angstrom, # y values of the grid in Angstroms\n",
    "    z=Z.flatten() / Angstrom, # z values of the grid in Angstroms\n",
    "    value=prob_n2l0m0.flatten(), # independent variable\n",
    "    isomin=0.05, # Minimum normalized probability density to render in an isosurface\n",
    "    isomax=0.95, # Maximum normalized probability density to render in an isosurface\n",
    "    opacity=0.4, # Set a low opacity so each surface is partially transparent\n",
    "    colorscale='Plotly3_r', # Nice-looking color table\n",
    "    surface_count=8, # number of isosurfaces to plot (2 by default: only min and max)\n",
    "    colorbar_nticks=8, # colorbar ticks correspond to isosurface values\n",
    "    caps=dict(x_show=False, y_show=False, z_show=False)\n",
    "    ))\n",
    "\n",
    "# Change axis lables and make the plot larger than the default\n",
    "fig.update_layout(scene = dict(\n",
    "                    xaxis_title='x (Angstroms)',\n",
    "                    yaxis_title='y (Angstroms)',\n",
    "                    zaxis_title='z (Angstroms)'),\n",
    "                    width=700,\n",
    "                    margin=dict(r=10, b=10, l=10, t=10))\n",
    "\n",
    "fig.show()"
   ]
  },
  {
   "cell_type": "markdown",
   "id": "a643ef81",
   "metadata": {},
   "source": [
    "Question: which of the two probability functions plotted above is more centrally condensed, that is, a higher probability of the electron being close to the proton?"
   ]
  },
  {
   "cell_type": "markdown",
   "id": "9f59f2aa",
   "metadata": {},
   "source": [
    "The first one is more centrally condensed than the second one, thus the first one has a higher probalility of the electron being close to the proton."
   ]
  },
  {
   "cell_type": "code",
   "execution_count": null,
   "id": "2cac2eb3",
   "metadata": {},
   "outputs": [],
   "source": [
    "# n = 1, l = 0, m = 0\n",
    "fig = go.Figure(data=go.Isosurface(\n",
    "    x=X.flatten() / Angstrom, # x values of the grid in Angstroms\n",
    "    y=Y.flatten() / Angstrom, # y values of the grid in Angstroms\n",
    "    z=Z.flatten() / Angstrom, # z values of the grid in Angstroms\n",
    "    value=prob_n1l0m0.flatten(), # independent variable\n",
    "    isomin=0.05, # Minimum normalized probability density to render in an isosurface\n",
    "    isomax=0.95, # Maximum normalized probability density to render in an isosurface\n",
    "    opacity=0.4, # Set a low opacity so each surface is partially transparent\n",
    "    colorscale='Plotly3_r', # Nice-looking color table\n",
    "    surface_count=8, # number of isosurfaces to plot (2 by default: only min and max)\n",
    "    colorbar_nticks=8, # colorbar ticks correspond to isosurface values\n",
    "    slices_x=dict(show=True, locations=[0]),\n",
    "    caps=dict(x_show=False, y_show=False, z_show=False))\n",
    "               )\n",
    "\n",
    "# Change axis lables and make the plot larger than the default\n",
    "fig.update_layout(scene = dict(\n",
    "                    xaxis_title='x (Angstroms)',\n",
    "                    yaxis_title='y (Angstroms)',\n",
    "                    zaxis_title='z (Angstroms)'),\n",
    "                    width=700,\n",
    "                    margin=dict(r=10, b=10, l=10, t=10))\n",
    "\n",
    "fig.show()"
   ]
  },
  {
   "cell_type": "markdown",
   "id": "baac06be",
   "metadata": {},
   "source": [
    "Question:\n",
    "Does the slice shown above match your expectations of the probability function?"
   ]
  },
  {
   "cell_type": "markdown",
   "id": "4da6dc70",
   "metadata": {},
   "source": [
    "Yes, it matches what I would expect because the function is a decaying function, so it would make sense for it to become less probable as you go further from the nucleus and is more probable as you get closer to the nucleus."
   ]
  },
  {
   "cell_type": "code",
   "execution_count": null,
   "id": "c40fcd09",
   "metadata": {},
   "outputs": [],
   "source": [
    "# n = 2, l = 0, m = 0\n",
    "fig = go.Figure(data=go.Isosurface(\n",
    "    x=X.flatten() / Angstrom, # x values of the grid in Angstroms\n",
    "    y=Y.flatten() / Angstrom, # y values of the grid in Angstroms\n",
    "    z=Z.flatten() / Angstrom, # z values of the grid in Angstroms\n",
    "    value=prob_n2l0m0.flatten(), # independent variable\n",
    "    isomin=0.05, # Minimum normalized probability density to render in an isosurface\n",
    "    isomax=0.95, # Maximum normalized probability density to render in an isosurface\n",
    "    opacity=0.4, # Set a low opacity so each surface is partially transparent\n",
    "    colorscale='Plotly3_r', # Nice-looking color table\n",
    "    surface_count=8, # number of isosurfaces to plot (2 by default: only min and max)\n",
    "    colorbar_nticks=8, # colorbar ticks correspond to isosurface values\n",
    "    caps=dict(x_show=False, y_show=False, z_show=False),\n",
    "    slices_x=dict(show=True, locations=[0]),\n",
    "    ))\n",
    "\n",
    "# Change axis lables and make the plot larger than the default\n",
    "fig.update_layout(scene = dict(\n",
    "                    xaxis_title='x (Angstroms)',\n",
    "                    yaxis_title='y (Angstroms)',\n",
    "                    zaxis_title='z (Angstroms)'),\n",
    "                    width=700,\n",
    "                    margin=dict(r=10, b=10, l=10, t=10))\n",
    "\n",
    "fig.show()"
   ]
  },
  {
   "cell_type": "markdown",
   "id": "353a4efd",
   "metadata": {},
   "source": [
    "Question:\n",
    "Based on what you see in the slices, how are the probability functions for $n = 1, \\ell = 0, m = 0$ and $n = 2, \\ell = 0, m = 0$ different?"
   ]
  },
  {
   "cell_type": "markdown",
   "id": "2ecd98bd",
   "metadata": {},
   "source": [
    "For n=1,l=0,m=0 the probability consistently grows as you get closer ot the nucleus, however in n=2,l=0,m=0 there is a certain point where the probability starts to get smaller as you get closer to the nucleus."
   ]
  },
  {
   "cell_type": "code",
   "execution_count": null,
   "id": "d25b94c0",
   "metadata": {},
   "outputs": [],
   "source": [
    "n2l1m0 = lambda r, theta: (r/a0) * np.exp(-r/(2*a0)) * np.cos(theta) \\\n",
    "                          / (4 * np.sqrt(2*np.pi) * a0**1.5)\n",
    "\n"
   ]
  },
  {
   "cell_type": "code",
   "execution_count": null,
   "id": "70f9c107",
   "metadata": {},
   "outputs": [],
   "source": [
    "# n = 2, l = 1, m = 0\n",
    "prob_n2l1m0 = probfunc(r_grid, n2l1m0(r_grid, theta_grid))\n",
    "\n",
    "fig = go.Figure(data=go.Isosurface(\n",
    "    x=X.flatten() / Angstrom, # x values of the grid in Angstroms\n",
    "    y=Y.flatten() / Angstrom, # y values of the grid in Angstroms\n",
    "    z=Z.flatten() / Angstrom, # z values of the grid in Angstroms\n",
    "    value=prob_n2l1m0.flatten(), # independent variable\n",
    "    isomin=0.05, # Minimum normalized probability density to render in an isosurface\n",
    "    isomax=0.95, # Maximum normalized probability density to render in an isosurface\n",
    "    opacity=0.4, # Set a low opacity so each surface is partially transparent\n",
    "    colorscale='Plotly3_r', # Nice-looking color table\n",
    "    surface_count=8, # number of isosurfaces to plot (2 by default: only min and max)\n",
    "    colorbar_nticks=8, # colorbar ticks correspond to isosurface values\n",
    "    caps=dict(x_show=False, y_show=False, z_show=False),\n",
    "    # slices_x=dict(show=True, locations=[0]),\n",
    "    ))\n",
    "\n",
    "# Change axis lables and make the plot larger than the default\n",
    "fig.update_layout(scene = dict(\n",
    "                    xaxis_title='x (Angstroms)',\n",
    "                    yaxis_title='y (Angstroms)',\n",
    "                    zaxis_title='z (Angstroms)'),\n",
    "                    width=700,\n",
    "                    margin=dict(r=10, b=10, l=10, t=10))\n",
    "\n",
    "fig.show()\n",
    "\n"
   ]
  },
  {
   "cell_type": "code",
   "execution_count": null,
   "id": "ec1e093c",
   "metadata": {},
   "outputs": [],
   "source": [
    "n2l1m1 = lambda r, phi, theta: (r/a0) * np.exp(-r/(2*a0)) * np.sin(theta) \\\n",
    "                               * np.exp(1j * phi) / (8 * np.sqrt(3*np.pi) * a0**1.5)\n",
    "\n"
   ]
  },
  {
   "cell_type": "code",
   "execution_count": null,
   "id": "a7ad578d",
   "metadata": {},
   "outputs": [],
   "source": [
    "# n = 2, l = 1, m = 1\n",
    "prob_n2l1m1 = probfunc(r_grid, n2l1m1(r_grid, phi_grid, theta_grid))\n",
    "\n",
    "fig = go.Figure(data=go.Isosurface(\n",
    "    x=X.flatten() / Angstrom, # x values of the grid in Angstroms\n",
    "    y=Y.flatten() / Angstrom, # y values of the grid in Angstroms\n",
    "    z=Z.flatten() / Angstrom, # z values of the grid in Angstroms\n",
    "    value=prob_n2l1m1.flatten(), # independent variable\n",
    "    isomin=0.05, # Minimum normalized probability density to render in an isosurface\n",
    "    isomax=0.95, # Maximum normalized probability density to render in an isosurface\n",
    "    opacity=0.4, # Set a low opacity so each surface is partially transparent\n",
    "    colorscale='Plotly3_r', # Nice-looking color table\n",
    "    surface_count=8, # number of isosurfaces to plot (2 by default: only min and max)\n",
    "    colorbar_nticks=8, # colorbar ticks correspond to isosurface values\n",
    "    caps=dict(x_show=False, y_show=False, z_show=False),\n",
    "    # slices_x=dict(show=True, locations=[0]),\n",
    "    ))\n",
    "\n",
    "# Change axis lables and make the plot larger than the default\n",
    "fig.update_layout(scene = dict(\n",
    "                    xaxis_title='x (Angstroms)',\n",
    "                    yaxis_title='y (Angstroms)',\n",
    "                    zaxis_title='z (Angstroms)'),\n",
    "                    width=700,\n",
    "                    margin=dict(r=10, b=10, l=10, t=10))\n",
    "\n",
    "fig.show()\n",
    "\n"
   ]
  },
  {
   "cell_type": "code",
   "execution_count": null,
   "id": "d7d8414f",
   "metadata": {},
   "outputs": [],
   "source": [
    "# n = 2, l = 1, m = 1\n",
    "fig = go.Figure(data=go.Isosurface(\n",
    "    x=X.flatten() / Angstrom, # x values of the grid in Angstroms\n",
    "    y=Y.flatten() / Angstrom, # y values of the grid in Angstroms\n",
    "    z=Z.flatten() / Angstrom, # z values of the grid in Angstroms\n",
    "    value=prob_n2l1m1.flatten(), # independent variable\n",
    "    isomin=0.05, # Minimum normalized probability density to render in an isosurface\n",
    "    isomax=0.95, # Maximum normalized probability density to render in an isosurface\n",
    "    opacity=0.4, # Set a low opacity so each surface is partially transparent\n",
    "    colorscale='Plotly3_r', # Nice-looking color table\n",
    "    surface_count=8, # number of isosurfaces to plot (2 by default: only min and max)\n",
    "    colorbar_nticks=8, # colorbar ticks correspond to isosurface values\n",
    "    caps=dict(x_show=False, y_show=False, z_show=False),\n",
    "    slices_z=dict(show=True, locations=[0]),\n",
    "    ))\n",
    "\n",
    "# Change axis lables and make the plot larger than the default\n",
    "fig.update_layout(scene = dict(\n",
    "                    xaxis_title='x (Angstroms)',\n",
    "                    yaxis_title='y (Angstroms)',\n",
    "                    zaxis_title='z (Angstroms)'),\n",
    "                    width=700,\n",
    "                    margin=dict(r=10, b=10, l=10, t=10))\n",
    "\n",
    "fig.show()"
   ]
  },
  {
   "cell_type": "code",
   "execution_count": null,
   "id": "9396afc7",
   "metadata": {},
   "outputs": [],
   "source": [
    "n3l2m1 = lambda r, phi, theta: (r**2/a0**2) * np.exp(-r/(3*a0)) * np.sin(theta) * \\\n",
    "                               np.cos(theta) * (np.cos(phi) + 1j * np.sin(phi)) / \\\n",
    "                               (81 * np.sqrt(np.pi) * a0**1.5)\n",
    "\n"
   ]
  },
  {
   "cell_type": "code",
   "execution_count": null,
   "id": "62ecf698",
   "metadata": {},
   "outputs": [],
   "source": [
    "# n = 3, l = 2, m = 1\n",
    "prob_n3l2m1 = probfunc(r_grid, n3l2m1(r_grid, phi_grid, theta_grid))\n",
    "\n",
    "fig = go.Figure(data=go.Isosurface(\n",
    "    x=X.flatten() / Angstrom, # x values of the grid in Angstroms\n",
    "    y=Y.flatten() / Angstrom, # y values of the grid in Angstroms\n",
    "    z=Z.flatten() / Angstrom, # z values of the grid in Angstroms\n",
    "    value=prob_n3l2m1.flatten(), # independent variable\n",
    "    isomin=0.05, # Minimum normalized probability density to render in an isosurface\n",
    "    isomax=0.95, # Maximum normalized probability density to render in an isosurface\n",
    "    opacity=0.4, # Set a low opacity so each surface is partially transparent\n",
    "    colorscale='Plotly3_r', # Nice-looking color table\n",
    "    surface_count=8, # number of isosurfaces to plot (2 by default: only min and max)\n",
    "    colorbar_nticks=8, # colorbar ticks correspond to isosurface values\n",
    "    caps=dict(x_show=False, y_show=False, z_show=False),\n",
    "    ))\n",
    "\n",
    "# Change axis lables and make the plot larger than the default\n",
    "fig.update_layout(scene = dict(\n",
    "                    xaxis_title='x (Angstroms)',\n",
    "                    yaxis_title='y (Angstroms)',\n",
    "                    zaxis_title='z (Angstroms)'),\n",
    "                    width=700,\n",
    "                    margin=dict(r=10, b=10, l=10, t=10))\n",
    "\n",
    "fig.show()\n",
    "\n"
   ]
  },
  {
   "cell_type": "code",
   "execution_count": null,
   "id": "785ff4db",
   "metadata": {},
   "outputs": [],
   "source": [
    "# n = 3, l = 2, m = 1\n",
    "prob_n3l2m1 = probfunc(r_grid, n3l2m1(r_grid, phi_grid, theta_grid))\n",
    "\n",
    "fig = go.Figure(data=go.Isosurface(\n",
    "    x=X.flatten() / Angstrom, # x values of the grid in Angstroms\n",
    "    y=Y.flatten() / Angstrom, # y values of the grid in Angstroms\n",
    "    z=Z.flatten() / Angstrom, # z values of the grid in Angstroms\n",
    "    value=prob_n3l2m1.flatten(), # independent variable\n",
    "    isomin=0.05, # Minimum normalized probability density to render in an isosurface\n",
    "    isomax=0.95, # Maximum normalized probability density to render in an isosurface\n",
    "    opacity=0.4, # Set a low opacity so each surface is partially transparent\n",
    "    colorscale='Plotly3_r', # Nice-looking color table\n",
    "    surface_count=8, # number of isosurfaces to plot (2 by default: only min and max)\n",
    "    colorbar_nticks=8, # colorbar ticks correspond to isosurface values\n",
    "    caps=dict(x_show=False, y_show=False, z_show=False),\n",
    "    slices_x=dict(show=True, locations=[0]),\n",
    "    ))\n",
    "\n",
    "# Change axis lables and make the plot larger than the default\n",
    "fig.update_layout(scene = dict(\n",
    "                    xaxis_title='x (Angstroms)',\n",
    "                    yaxis_title='y (Angstroms)',\n",
    "                    zaxis_title='z (Angstroms)'),\n",
    "                    width=700,\n",
    "                    margin=dict(r=10, b=10, l=10, t=10))\n",
    "\n",
    "fig.show()\n",
    "\n"
   ]
  },
  {
   "cell_type": "markdown",
   "id": "89c6878b",
   "metadata": {},
   "source": [
    "Isosurface rendering of n=3,l=2,m=2"
   ]
  },
  {
   "cell_type": "code",
   "execution_count": null,
   "id": "b5de6f32",
   "metadata": {},
   "outputs": [],
   "source": [
    "n3l2m2 = lambda r, phi, theta: (1/162)*r*r*np.exp(-r/(3*a0))*np.sin(theta)*np.sin(theta)*np.exp(2*1j*phi)/(np.sqrt(np.pi)*a0*a0*a0*np.sqrt(a0))"
   ]
  },
  {
   "cell_type": "code",
   "execution_count": null,
   "id": "fd50752e",
   "metadata": {},
   "outputs": [
    {
     "ename": "ValueError",
     "evalue": "Mime type rendering requires nbformat>=4.2.0 but it is not installed",
     "output_type": "error",
     "traceback": [
      "\u001b[1;31m---------------------------------------------------------------------------\u001b[0m",
      "\u001b[1;31mValueError\u001b[0m                                Traceback (most recent call last)",
      "Cell \u001b[1;32mIn[27], line 27\u001b[0m\n\u001b[0;32m     19\u001b[0m \u001b[38;5;66;03m# Change axis lables and make the plot larger than the default\u001b[39;00m\n\u001b[0;32m     20\u001b[0m fig\u001b[38;5;241m.\u001b[39mupdate_layout(scene \u001b[38;5;241m=\u001b[39m \u001b[38;5;28mdict\u001b[39m(\n\u001b[0;32m     21\u001b[0m                     xaxis_title\u001b[38;5;241m=\u001b[39m\u001b[38;5;124m'\u001b[39m\u001b[38;5;124mx (Angstroms)\u001b[39m\u001b[38;5;124m'\u001b[39m,\n\u001b[0;32m     22\u001b[0m                     yaxis_title\u001b[38;5;241m=\u001b[39m\u001b[38;5;124m'\u001b[39m\u001b[38;5;124my (Angstroms)\u001b[39m\u001b[38;5;124m'\u001b[39m,\n\u001b[0;32m     23\u001b[0m                     zaxis_title\u001b[38;5;241m=\u001b[39m\u001b[38;5;124m'\u001b[39m\u001b[38;5;124mz (Angstroms)\u001b[39m\u001b[38;5;124m'\u001b[39m),\n\u001b[0;32m     24\u001b[0m                     width\u001b[38;5;241m=\u001b[39m\u001b[38;5;241m700\u001b[39m,\n\u001b[0;32m     25\u001b[0m                     margin\u001b[38;5;241m=\u001b[39m\u001b[38;5;28mdict\u001b[39m(r\u001b[38;5;241m=\u001b[39m\u001b[38;5;241m10\u001b[39m, b\u001b[38;5;241m=\u001b[39m\u001b[38;5;241m10\u001b[39m, l\u001b[38;5;241m=\u001b[39m\u001b[38;5;241m10\u001b[39m, t\u001b[38;5;241m=\u001b[39m\u001b[38;5;241m10\u001b[39m))\n\u001b[1;32m---> 27\u001b[0m \u001b[43mfig\u001b[49m\u001b[38;5;241;43m.\u001b[39;49m\u001b[43mshow\u001b[49m\u001b[43m(\u001b[49m\u001b[43m)\u001b[49m\n",
      "File \u001b[1;32m~\\AppData\\Local\\Packages\\PythonSoftwareFoundation.Python.3.11_qbz5n2kfra8p0\\LocalCache\\local-packages\\Python311\\site-packages\\plotly\\basedatatypes.py:3414\u001b[0m, in \u001b[0;36mBaseFigure.show\u001b[1;34m(self, *args, **kwargs)\u001b[0m\n\u001b[0;32m   3381\u001b[0m \u001b[38;5;250m\u001b[39m\u001b[38;5;124;03m\"\"\"\u001b[39;00m\n\u001b[0;32m   3382\u001b[0m \u001b[38;5;124;03mShow a figure using either the default renderer(s) or the renderer(s)\u001b[39;00m\n\u001b[0;32m   3383\u001b[0m \u001b[38;5;124;03mspecified by the renderer argument\u001b[39;00m\n\u001b[1;32m   (...)\u001b[0m\n\u001b[0;32m   3410\u001b[0m \u001b[38;5;124;03mNone\u001b[39;00m\n\u001b[0;32m   3411\u001b[0m \u001b[38;5;124;03m\"\"\"\u001b[39;00m\n\u001b[0;32m   3412\u001b[0m \u001b[38;5;28;01mimport\u001b[39;00m \u001b[38;5;21;01mplotly\u001b[39;00m\u001b[38;5;21;01m.\u001b[39;00m\u001b[38;5;21;01mio\u001b[39;00m \u001b[38;5;28;01mas\u001b[39;00m \u001b[38;5;21;01mpio\u001b[39;00m\n\u001b[1;32m-> 3414\u001b[0m \u001b[38;5;28;01mreturn\u001b[39;00m \u001b[43mpio\u001b[49m\u001b[38;5;241;43m.\u001b[39;49m\u001b[43mshow\u001b[49m\u001b[43m(\u001b[49m\u001b[38;5;28;43mself\u001b[39;49m\u001b[43m,\u001b[49m\u001b[43m \u001b[49m\u001b[38;5;241;43m*\u001b[39;49m\u001b[43margs\u001b[49m\u001b[43m,\u001b[49m\u001b[43m \u001b[49m\u001b[38;5;241;43m*\u001b[39;49m\u001b[38;5;241;43m*\u001b[39;49m\u001b[43mkwargs\u001b[49m\u001b[43m)\u001b[49m\n",
      "File \u001b[1;32m~\\AppData\\Local\\Packages\\PythonSoftwareFoundation.Python.3.11_qbz5n2kfra8p0\\LocalCache\\local-packages\\Python311\\site-packages\\plotly\\io\\_renderers.py:425\u001b[0m, in \u001b[0;36mshow\u001b[1;34m(fig, renderer, validate, **kwargs)\u001b[0m\n\u001b[0;32m    420\u001b[0m     \u001b[38;5;28;01mraise\u001b[39;00m \u001b[38;5;167;01mValueError\u001b[39;00m(\n\u001b[0;32m    421\u001b[0m         \u001b[38;5;124m\"\u001b[39m\u001b[38;5;124mMime type rendering requires ipython but it is not installed\u001b[39m\u001b[38;5;124m\"\u001b[39m\n\u001b[0;32m    422\u001b[0m     )\n\u001b[0;32m    424\u001b[0m \u001b[38;5;28;01mif\u001b[39;00m \u001b[38;5;129;01mnot\u001b[39;00m nbformat \u001b[38;5;129;01mor\u001b[39;00m Version(nbformat\u001b[38;5;241m.\u001b[39m__version__) \u001b[38;5;241m<\u001b[39m Version(\u001b[38;5;124m\"\u001b[39m\u001b[38;5;124m4.2.0\u001b[39m\u001b[38;5;124m\"\u001b[39m):\n\u001b[1;32m--> 425\u001b[0m     \u001b[38;5;28;01mraise\u001b[39;00m \u001b[38;5;167;01mValueError\u001b[39;00m(\n\u001b[0;32m    426\u001b[0m         \u001b[38;5;124m\"\u001b[39m\u001b[38;5;124mMime type rendering requires nbformat>=4.2.0 but it is not installed\u001b[39m\u001b[38;5;124m\"\u001b[39m\n\u001b[0;32m    427\u001b[0m     )\n\u001b[0;32m    429\u001b[0m display_jupyter_version_warnings()\n\u001b[0;32m    431\u001b[0m ipython_display\u001b[38;5;241m.\u001b[39mdisplay(bundle, raw\u001b[38;5;241m=\u001b[39m\u001b[38;5;28;01mTrue\u001b[39;00m)\n",
      "\u001b[1;31mValueError\u001b[0m: Mime type rendering requires nbformat>=4.2.0 but it is not installed"
     ]
    }
   ],
   "source": [
    "# n = 3, l = 2, m = 2\n",
    "prob_n3l2m2 = probfunc(r_grid, n3l2m2(r_grid, phi_grid, theta_grid))\n",
    "\n",
    "fig = go.Figure(data=go.Isosurface(\n",
    "    x=X.flatten() / Angstrom, # x values of the grid in Angstroms\n",
    "    y=Y.flatten() / Angstrom, # y values of the grid in Angstroms\n",
    "    z=Z.flatten() / Angstrom, # z values of the grid in Angstroms\n",
    "    value=prob_n3l2m2.flatten(), # independent variable\n",
    "    isomin=0.05, # Minimum normalized probability density to render in an isosurface\n",
    "    isomax=0.95, # Maximum normalized probability density to render in an isosurface\n",
    "    opacity=0.4, # Set a low opacity so each surface is partially transparent\n",
    "    colorscale='Plotly3_r', # Nice-looking color table\n",
    "    surface_count=8, # number of isosurfaces to plot (2 by default: only min and max)\n",
    "    colorbar_nticks=8, # colorbar ticks correspond to isosurface values\n",
    "    caps=dict(x_show=False, y_show=False, z_show=False),\n",
    "    ))\n",
    "\n",
    "# Change axis lables and make the plot larger than the default\n",
    "fig.update_layout(scene = dict(\n",
    "                    xaxis_title='x (Angstroms)',\n",
    "                    yaxis_title='y (Angstroms)',\n",
    "                    zaxis_title='z (Angstroms)'),\n",
    "                    width=700,\n",
    "                    margin=dict(r=10, b=10, l=10, t=10))\n",
    "\n",
    "fig.show()"
   ]
  }
 ],
 "metadata": {
  "kernelspec": {
   "display_name": "Python 3",
   "language": "python",
   "name": "python3"
  },
  "language_info": {
   "codemirror_mode": {
    "name": "ipython",
    "version": 3
   },
   "file_extension": ".py",
   "mimetype": "text/x-python",
   "name": "python",
   "nbconvert_exporter": "python",
   "pygments_lexer": "ipython3",
   "version": "3.11.9"
  }
 },
 "nbformat": 4,
 "nbformat_minor": 5
}
